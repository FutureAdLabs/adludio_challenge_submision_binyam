{
 "cells": [
  {
   "cell_type": "code",
   "execution_count": null,
   "metadata": {},
   "outputs": [],
   "source": [
    "import pandas as pd\n",
    "import numpy as np\n",
    "import matplotlib.pyplot as plt\n",
    "%matplotlib inline\n",
    "from skimage.io import imread, imshow\n",
    "\n",
    "image = imread('image_8_original.png', as_gray=True)\n",
    "imshow(image)"
   ]
  },
  {
   "cell_type": "code",
   "execution_count": 4,
   "metadata": {},
   "outputs": [
    {
     "name": "stdout",
     "output_type": "stream",
     "text": [
      "080ac9223009886832e1a5e426a55910-f4c02eb05e03c3c6c9fd\n",
      "e94d0020bf0875e4d0883d8d1ec8f963-b6d390c93ad74bca1999\n",
      "915c850bc7b4ead0fef54f2b3c325051-365082ca9a2e19a0c4d3\n",
      "9401d1ff9026dd736d16ca0ddac073ea-bb9541a313fc8aa285a8\n",
      "ecc6562c52ea0a03f794e7cec023bd0b-54e2394a53a3b0fdd795\n",
      "0c1a2c286a6818e1354c2b655f68da09-ffb622dd70303838b356\n",
      "adunit-facebook-conversational-commerce-phase-2-philippines-coffeehouse-mob-v2-1540c70cb1dd6789fe5d\n",
      "85c04226dc565120a790be283c8b39ed-39a3cd53c68ccb969260\n",
      "adunit-facebook-conversational-commerce-phase-2-vietnam-baanraya-mob-v2-40c3def4f055725de245\n",
      "424a4a0bfde5a836ed93394a8c099b17-d23b595fd3d0ca8e8337\n"
     ]
    }
   ],
   "source": [
    "import glob\n",
    "cv_img = []\n",
    "for img in range(10):\n",
    "    imgs = glob.glob(\"../data/Creative Assets_/*.png\")[img]\n",
    "    print(imgs.split(\"/\")[-1].split(\".\")[0])\n",
    "    "
   ]
  },
  {
   "cell_type": "code",
   "execution_count": null,
   "metadata": {},
   "outputs": [],
   "source": []
  }
 ],
 "metadata": {
  "kernelspec": {
   "display_name": "Python 3.8.13 ('py38')",
   "language": "python",
   "name": "python3"
  },
  "language_info": {
   "codemirror_mode": {
    "name": "ipython",
    "version": 3
   },
   "file_extension": ".py",
   "mimetype": "text/x-python",
   "name": "python",
   "nbconvert_exporter": "python",
   "pygments_lexer": "ipython3",
   "version": "3.8.13"
  },
  "orig_nbformat": 4,
  "vscode": {
   "interpreter": {
    "hash": "c278458f781ee49109496bb3aecd21574a85b9eae5b26d416ec5279b2a94a8a9"
   }
  }
 },
 "nbformat": 4,
 "nbformat_minor": 2
}
