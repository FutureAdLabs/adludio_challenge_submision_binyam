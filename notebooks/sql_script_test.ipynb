{
 "cells": [
  {
   "cell_type": "markdown",
   "metadata": {},
   "source": [
    "# SQL Scripts Testing Notebook"
   ]
  },
  {
   "cell_type": "code",
   "execution_count": 1,
   "metadata": {},
   "outputs": [],
   "source": [
    "# load libraries and scripts\n",
    "import os\n",
    "import sys"
   ]
  },
  {
   "cell_type": "code",
   "execution_count": 2,
   "metadata": {},
   "outputs": [],
   "source": [
    "# loading scripts\n",
    "\n",
    "sys.path.append(os.path.abspath(\"../scripts/python\"))\n",
    "from manager import Manager\n",
    "manager = Manager()"
   ]
  },
  {
   "cell_type": "code",
   "execution_count": 3,
   "metadata": {},
   "outputs": [
    {
     "name": "stdout",
     "output_type": "stream",
     "text": [
      "successfully connected; cursor: <cursor object at 0x7f675aab5e50; closed: 0>\n"
     ]
    }
   ],
   "source": [
    "# establishing connection\n",
    "\n",
    "connection, cursor = manager.connect_to_server(host=\"localhost\", port=5432, user=\"data_lake\", password=\"data_lake\", dbName=\"data_lake\")"
   ]
  },
  {
   "cell_type": "code",
   "execution_count": 4,
   "metadata": {},
   "outputs": [
    {
     "name": "stdout",
     "output_type": "stream",
     "text": [
      "successfully executed\n",
      "successfully executed\n",
      "successfully executed\n"
     ]
    }
   ],
   "source": [
    "# running ingestion sql script\n",
    "\n",
    "manager.execute_query(cursor, \"../scripts/sql/ingestion.sql\")"
   ]
  },
  {
   "cell_type": "code",
   "execution_count": null,
   "metadata": {},
   "outputs": [],
   "source": []
  }
 ],
 "metadata": {
  "kernelspec": {
   "display_name": "Python 3.8.13 ('py38')",
   "language": "python",
   "name": "python3"
  },
  "language_info": {
   "codemirror_mode": {
    "name": "ipython",
    "version": 3
   },
   "file_extension": ".py",
   "mimetype": "text/x-python",
   "name": "python",
   "nbconvert_exporter": "python",
   "pygments_lexer": "ipython3",
   "version": "3.8.13"
  },
  "orig_nbformat": 4,
  "vscode": {
   "interpreter": {
    "hash": "c278458f781ee49109496bb3aecd21574a85b9eae5b26d416ec5279b2a94a8a9"
   }
  }
 },
 "nbformat": 4,
 "nbformat_minor": 2
}
